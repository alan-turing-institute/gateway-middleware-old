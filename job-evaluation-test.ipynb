{
 "cells": [
  {
   "cell_type": "code",
   "execution_count": 35,
   "metadata": {},
   "outputs": [
    {
     "name": "stdout",
     "output_type": "stream",
     "text": [
      "test1 == True: False\n",
      "test1 == False: False\n",
      "job1 == True: False\n",
      "job1 == False: False\n",
      "'if test1' evaluates as True\n",
      "'if job1' evaluates as True\n",
      "assert test1 passes\n",
      "assert job1 passes\n",
      "not(test1) == False: True\n",
      "not(job1) == False: True\n"
     ]
    }
   ],
   "source": [
    "from middleware.job.models import *\n",
    "\n",
    "class Test():\n",
    "    field1 = None\n",
    "    field2 = None\n",
    "    \n",
    "test1 = Test()\n",
    "\n",
    "job1 = Job()\n",
    "# Test if custom object evaluates to True or False\n",
    "print(\"test1 == True:\", test1 == True)\n",
    "print(\"test1 == False:\", test1 == False)\n",
    "print(\"job1 == True:\", job1 == True)\n",
    "print(\"job1 == False:\", job1 == False)\n",
    "\n",
    "# Test if \"if object\" evaluates to True\n",
    "if(test1):\n",
    "    print(\"'if test1' evaluates as True\")\n",
    "else:\n",
    "    print(\"'if test1' evaluates as False\")\n",
    "if(job1):\n",
    "    print(\"'if job1' evaluates as True\")\n",
    "else:\n",
    "    print(\"'if job1' evaluates as False\")\n",
    "\n",
    "# Test if assert(custom_object) passes\n",
    "assert test1\n",
    "print(\"assert test1 passes\")\n",
    "assert job1\n",
    "print(\"assert job1 passes\")\n",
    "\n",
    "# Test not(object) evaluates to True\n",
    "print(\"not(test1) == False:\",not(test1) == False)\n",
    "print(\"not(job1) == False:\", not(job1) == False)"
   ]
  },
  {
   "cell_type": "code",
   "execution_count": 11,
   "metadata": {},
   "outputs": [
    {
     "data": {
      "text/plain": [
       "False"
      ]
     },
     "execution_count": 11,
     "metadata": {},
     "output_type": "execute_result"
    }
   ],
   "source": [
    "test1 == True"
   ]
  },
  {
   "cell_type": "code",
   "execution_count": null,
   "metadata": {
    "collapsed": true
   },
   "outputs": [],
   "source": [
    "job1 == "
   ]
  }
 ],
 "metadata": {
  "kernelspec": {
   "display_name": "Python 3",
   "language": "python",
   "name": "python3"
  },
  "language_info": {
   "codemirror_mode": {
    "name": "ipython",
    "version": 3
   },
   "file_extension": ".py",
   "mimetype": "text/x-python",
   "name": "python",
   "nbconvert_exporter": "python",
   "pygments_lexer": "ipython3",
   "version": "3.6.1"
  }
 },
 "nbformat": 4,
 "nbformat_minor": 2
}
